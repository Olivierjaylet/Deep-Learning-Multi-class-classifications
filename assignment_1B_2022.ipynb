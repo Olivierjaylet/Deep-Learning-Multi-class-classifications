{
  "cells": [
    {
      "cell_type": "markdown",
      "metadata": {
        "id": "t-Zemczcjvoo"
      },
      "source": [
        "\n",
        "\n",
        "# Multi-class Classification\n",
        "### Introduction\n",
        "\n",
        "In the second part of this assignment, you will implement, train and evaluate several single layer neural networks to predict the correct category of a previously unobserved plant given certain attributes of the plant as input. We will employ the Iris Data Set for this task. The dataset contains 3 classes of 50 instances each, where each class refers to a type of iris plant. The goal is to predict the class of iris plant (Iris Setosa, Iris Versicolour or Iris Virginica) using its 4 attributes: sepal length, sepal widths, petal length, petal width. This is an exceedingly simple domain, however, it is still a useful exercise to develop better understanding of linear, logistic and softmax regression methods from the perspective of neural networks.\n",
        "\n"
      ]
    },
    {
      "cell_type": "markdown",
      "metadata": {
        "id": "c19O1PI59nV7"
      },
      "source": [
        "Before starting, we first import NumPy and PyTorch libraries."
      ]
    },
    {
      "cell_type": "code",
      "execution_count": null,
      "metadata": {
        "id": "uQRh-HN82lNg"
      },
      "outputs": [],
      "source": [
        "import pandas as pd\n",
        "import torch\n",
        "import numpy as np\n",
        "import random\n",
        "from torch import nn\n",
        "import torch.nn.functional as F\n",
        "from torch.optim.optimizer import Optimizer"
      ]
    },
    {
      "cell_type": "markdown",
      "metadata": {
        "id": "oxwMkt9bhAeG"
      },
      "source": [
        "### Load Dataset\n",
        "\n",
        "The code for reading the `iris.data` file is already implemented for you in the following code cell. Futhermore, in the code below we mapp the textual categories (Iris Setosa, Iris Versicolour or Iris Virginica) to numerical class labels (0, 1 or 2) and split of the dataset into training (80%) and test (20%) datasets. The input features are also normalised to have zero mean and unit standard deviation."
      ]
    },
    {
      "cell_type": "code",
      "execution_count": null,
      "metadata": {
        "colab": {
          "base_uri": "https://localhost:8080/"
        },
        "id": "ox0dyXiA3YJ4",
        "outputId": "04486ac5-60ae-497b-bf60-db60eeee4432"
      },
      "outputs": [
        {
          "output_type": "stream",
          "name": "stdout",
          "text": [
            "Mounted at /content/drive\n"
          ]
        }
      ],
      "source": [
        "from google.colab import drive\n",
        "drive.mount('/content/drive') "
      ]
    },
    {
      "cell_type": "code",
      "execution_count": null,
      "metadata": {
        "id": "uIwEs1HZH1JQ"
      },
      "outputs": [],
      "source": [
        "df = pd.read_csv('/content/drive/MyDrive/DS405B/data/iris.data', index_col=None, header=None)\n",
        "df.columns = ['x1', 'x2', 'x3', 'x4', 'y']\n",
        "\n",
        "d = {'Iris-versicolor': 1,\n",
        "     'Iris-virginica': 2,\n",
        "     'Iris-setosa': 0,\n",
        "}\n",
        "\n",
        "df['y'] = df['y'].map(d)\n",
        "\n",
        "# Assign features and target\n",
        "\n",
        "X = torch.tensor(df[['x1', 'x2', 'x3', 'x4']].values, dtype=torch.float)\n",
        "y = torch.tensor(df['y'].values, dtype=torch.int)\n",
        "\n",
        "# Shuffling & train/test split\n",
        "\n",
        "torch.manual_seed(123)\n",
        "shuffle_idx = torch.randperm(y.size(0), dtype=torch.long)\n",
        "\n",
        "X, y = X[shuffle_idx], y[shuffle_idx]\n",
        "\n",
        "percent80 = int(shuffle_idx.size(0)*0.8)\n",
        "\n",
        "X_train, X_test = X[shuffle_idx[:percent80]], X[shuffle_idx[percent80:]]\n",
        "y_train, y_test = y[shuffle_idx[:percent80]], y[shuffle_idx[percent80:]]\n",
        "\n",
        "# Normalize (mean zero, unit variance)\n",
        "\n",
        "mu, sigma = X_train.mean(dim=0), X_train.std(dim=0)\n",
        "X_train = (X_train - mu) / sigma\n",
        "X_test = (X_test - mu) / sigma"
      ]
    },
    {
      "cell_type": "markdown",
      "source": [
        "### Setup all functions"
      ],
      "metadata": {
        "id": "8vpuoiWpzKq8"
      }
    },
    {
      "cell_type": "code",
      "source": [
        "# Transform y_train into a binary matrix of size (120,3)\n",
        "\n",
        "def one_hot_vector(x):\n",
        "  p=0\n",
        "  y=torch.zeros(len(x), max(x)+1)\n",
        "  for i in x :\n",
        "    y[p,i]=1\n",
        "    p=p+1\n",
        "  return y\n",
        "y_train_OHV =one_hot_vector(y_train)\n",
        "y_test_OHV =one_hot_vector(y_test)"
      ],
      "metadata": {
        "id": "C4-6Fhgihu5s"
      },
      "execution_count": null,
      "outputs": []
    },
    {
      "cell_type": "code",
      "source": [
        "def data_iter(batch_size, features, labels):\n",
        "    num_examples = len(features)\n",
        "    indices = list(range(num_examples))\n",
        "    # The examples are read at random, in no particular order\n",
        "    random.shuffle(indices)\n",
        "    for i in range(0, num_examples, batch_size):\n",
        "        batch_indices = torch.tensor(indices[i:min(i + batch_size, num_examples)])\n",
        "        yield features[batch_indices], labels[batch_indices]\n",
        "\n",
        "\n",
        "### Softmax function\n",
        "\n",
        "def softmax(z, log): #log = 1 for log_softmax\n",
        "  z=torch.exp(z)\n",
        "  a=torch.zeros(z.shape)\n",
        "  for i in range(len(z)):\n",
        "    for y in range(len(z[i])):\n",
        "      e=z[i]\n",
        "      if log==1:\n",
        "        a[i,y] = torch.log(e[y]/torch.sum(e))\n",
        "      else :\n",
        "        a[i,y] = e[y]/torch.sum(e)\n",
        "  return a\n",
        "\n",
        "\n",
        "### Cross entropy function\n",
        "\n",
        "def cross_entropy(softmax, y_target, reduction):\n",
        "  loss = torch.zeros((len(softmax)))\n",
        "  for i in range(len(softmax)):\n",
        "    loss_ = sum((-y_target[i]*torch.log(softmax[i])))\n",
        "    loss[i] = loss_\n",
        "  if reduction == 'mean':\n",
        "    loss = (1/len(loss))*sum(loss)\n",
        "  elif reduction == 'sum':\n",
        "    loss = sum(loss);\n",
        "  return loss\n",
        "\n",
        "\n",
        "### Compute accuracy \n",
        "\n",
        "# For models 1, 2 and 5\n",
        "\n",
        "def comp_accuracy(label_var, pred_probas):\n",
        "  pred_labels= torch.zeros(1, len(pred_probas))\n",
        "  count = 0\n",
        "  for i in range(len(pred_probas)):\n",
        "    pred_labels[:,i] = torch.max(pred_probas[i])\n",
        "    if label_var[i,((pred_probas[i] == pred_labels[:,i]).nonzero(as_tuple=True))] == torch.tensor([1.]):\n",
        "      count += 1\n",
        "  acc = count /  len(pred_probas)\n",
        "  return np.around(acc, 2)\n",
        "\n",
        "# For models 3 and 4\n",
        "\n",
        "def comp_accuracy2(label_var, pred_probas):\n",
        "  pred_labels= torch.zeros(1, len(pred_probas))\n",
        "  count = 0\n",
        "  for i in range(len(pred_probas)):\n",
        "    pred_labels[:,i] = torch.max(pred_probas[i])\n",
        "    if label_var[i] == torch.tensor((pred_probas[i] == pred_labels[:,i]).nonzero(as_tuple=True)):\n",
        "      count += 1\n",
        "  acc = count /  len(pred_probas)\n",
        "  return np.around(acc, 2)\n",
        "\n",
        "# for the 6th model\n",
        "\n",
        "def comp_accuracy3(label_var, pred_probas): \n",
        "  count = 0\n",
        "  for i in range(len(pred_probas)):\n",
        "    if label_var[i] == pred_probas[i]:\n",
        "      count += 1\n",
        "  acc = count /  len(pred_probas)\n",
        "  return np.around(acc, 2)"
      ],
      "metadata": {
        "id": "tPQw5wOx4xYZ"
      },
      "execution_count": null,
      "outputs": []
    },
    {
      "cell_type": "markdown",
      "source": [
        "### Setup parameters common to all models"
      ],
      "metadata": {
        "id": "pUaLQ1YPbV0o"
      }
    },
    {
      "cell_type": "code",
      "source": [
        "num_epochs = 100\n",
        "batch_size= 10"
      ],
      "metadata": {
        "id": "O2SrBGchbkeB"
      },
      "execution_count": null,
      "outputs": []
    },
    {
      "cell_type": "markdown",
      "source": [
        "### 1. Logistic regression for multiclass classification in One vs. All"
      ],
      "metadata": {
        "id": "pXc0n9K6aGsl"
      }
    },
    {
      "cell_type": "code",
      "source": [
        "def model_1(X_train, y_train_OVH, batch_size, train):\n",
        "  for X, y in data_iter(batch_size, X_train, y_train_OHV):\n",
        "    y=y.reshape(batch_size,3)\n",
        "    logits = net1(X)\n",
        "    out=torch.sigmoid(logits)\n",
        "    loss = F.binary_cross_entropy(out, y)\n",
        "    if train ==1:\n",
        "      optimizer.zero_grad()\n",
        "      loss.backward()\n",
        "      optimizer.step()\n",
        "  \n",
        "\n",
        "net1 = nn.Linear(4, 3, bias=True)\n",
        "optimizer = torch.optim.SGD(net1.parameters(), lr=0.1)\n",
        "for epoch in range(num_epochs):\n",
        "  model_1(X_train, y_train_OHV, batch_size, 1)\n",
        "\n",
        "print('Network Structure : torch.nn.Linear(4,3) :\\n',net1)\n",
        "print('Weight Of Network :\\n',net1.weight)\n",
        "print('Bias Of Network :\\n',net1.bias)\n",
        "\n",
        "model_1(X_test, y_test_OHV, batch_size, 0)\n",
        "print('Accuracy on the test set : ', comp_accuracy(y_test_OHV, torch.sigmoid(net1(X_test))))"
      ],
      "metadata": {
        "colab": {
          "base_uri": "https://localhost:8080/"
        },
        "id": "bWmtwPIKDjNo",
        "outputId": "2df4e2d7-113d-4dc0-aa70-5cf4dc9b54a0"
      },
      "execution_count": null,
      "outputs": [
        {
          "output_type": "stream",
          "name": "stdout",
          "text": [
            "Network Structure : torch.nn.Linear(4,3) :\n",
            " Linear(in_features=4, out_features=3, bias=True)\n",
            "Weight Of Network :\n",
            " Parameter containing:\n",
            "tensor([[-0.9482,  1.4478, -1.7525, -1.3672],\n",
            "        [ 0.0468, -1.3874,  0.3930, -0.4423],\n",
            "        [ 0.6095,  0.0951,  1.1819,  1.8982]], requires_grad=True)\n",
            "Bias Of Network :\n",
            " Parameter containing:\n",
            "tensor([-1.4955, -1.0981, -1.7995], requires_grad=True)\n",
            "Accuracy on the test set :  0.77\n"
          ]
        }
      ]
    },
    {
      "cell_type": "markdown",
      "source": [
        "### 2. Softmax regrression with custom implementation of cross entropy loss"
      ],
      "metadata": {
        "id": "YytfUc1zaj-O"
      }
    },
    {
      "cell_type": "code",
      "source": [
        "def model_2(X_train, y_train_OHV, batch_size, train):\n",
        "  for X, y in data_iter(batch_size, X_train, y_train_OHV):\n",
        "    y=y.reshape(batch_size,3)\n",
        "    logits = net2(X)\n",
        "    out=torch.sigmoid(logits)\n",
        "    soft = softmax(out, 0)                # softmax function implemented\n",
        "    loss = cross_entropy(soft, y, 'mean') # cross entropy function implemented\n",
        "    if train == 1 :\n",
        "      optimizer.zero_grad()\n",
        "      loss.backward()\n",
        "      optimizer.step()\n",
        "\n",
        "\n",
        "net2 = nn.Linear(4, 3, bias=True)\n",
        "optimizer = torch.optim.SGD(net2.parameters(), lr=0.1)\n",
        "for epoch in range(num_epochs):\n",
        "  model_2(X_train, y_train_OHV, batch_size, 1)\n",
        "print('Accuracy : ', comp_accuracy(y_train_OHV, softmax(torch.sigmoid(net2(X_train)), 0)))\n",
        "print('Network Structure : torch.nn.Linear(4,3) :\\n',net2)\n",
        "print('Weight Of Network :\\n',net2.weight)\n",
        "print('Bias Of Network :\\n',net2.bias)\n",
        "model_2(X_test, y_test_OHV, batch_size, 0)\n",
        "print('Accuracy on the test set : ', comp_accuracy(y_test_OHV, softmax(torch.sigmoid(net2(X_test)), 0)))"
      ],
      "metadata": {
        "id": "IN94a0VRa-LR",
        "colab": {
          "base_uri": "https://localhost:8080/"
        },
        "outputId": "bf8d8de7-38fa-4544-e958-68eaeb90326d"
      },
      "execution_count": null,
      "outputs": [
        {
          "output_type": "stream",
          "name": "stdout",
          "text": [
            "Accuracy :  0.88\n",
            "Network Structure : torch.nn.Linear(4,3) :\n",
            " Linear(in_features=4, out_features=3, bias=True)\n",
            "Weight Of Network :\n",
            " Parameter containing:\n",
            "tensor([[-1.0674,  1.3413, -1.2888, -1.6485],\n",
            "        [ 0.4389, -2.1717,  0.3201, -0.2496],\n",
            "        [ 1.1042,  0.0772,  1.0877,  1.8823]], requires_grad=True)\n",
            "Bias Of Network :\n",
            " Parameter containing:\n",
            "tensor([-1.0175, -0.1566, -0.8550], requires_grad=True)\n",
            "Accuracy on the test set :  0.73\n"
          ]
        }
      ]
    },
    {
      "cell_type": "markdown",
      "source": [
        "### 3. Using F.nll_loss"
      ],
      "metadata": {
        "id": "_0V2I1qOHyGY"
      }
    },
    {
      "cell_type": "code",
      "source": [
        "def model_3(X_train, y_train, batch_size, train):\n",
        "  for X, y in data_iter(batch_size, X_train, y_train):\n",
        "    y.reshape(batch_size,1)\n",
        "    logits = net3(X)\n",
        "    out=torch.sigmoid(logits)\n",
        "    loss = F.nll_loss(softmax(out,1), y)\n",
        "    if train==1 : \n",
        "      optimizer.zero_grad()\n",
        "      loss.backward()\n",
        "      optimizer.step()\n",
        "\n",
        "\n",
        "net3 = nn.Linear(4, 3)\n",
        "y_train=y_train.type(torch.LongTensor)\n",
        "y_test=y_test.type(torch.LongTensor)\n",
        "optimizer = torch.optim.SGD(net3.parameters(), lr=0.1)\n",
        "for epoch in range(num_epochs):\n",
        "  model_3(X_train, y_train, batch_size, 1)\n",
        "print('Network Structure : torch.nn.Linear(4,3) :\\n',net3)\n",
        "print('Weight Of Network :\\n',net3.weight)\n",
        "print('Bias Of Network :\\n',net3.bias)\n",
        "model_3(X_test, y_test, batch_size, 0)\n",
        "print('Accuracy on the test set : ', comp_accuracy2(y_test, torch.sigmoid(net3(X_test))))"
      ],
      "metadata": {
        "colab": {
          "base_uri": "https://localhost:8080/"
        },
        "id": "l-3sZ9MO7yav",
        "outputId": "92f60781-843a-45c2-bd3d-64bf027ec9c1"
      },
      "execution_count": null,
      "outputs": [
        {
          "output_type": "stream",
          "name": "stdout",
          "text": [
            "Network Structure : torch.nn.Linear(4,3) :\n",
            " Linear(in_features=4, out_features=3, bias=True)\n",
            "Weight Of Network :\n",
            " Parameter containing:\n",
            "tensor([[-0.7814,  1.2840, -1.7869, -1.4156],\n",
            "        [-0.1063, -2.0673,  0.4669,  0.0824],\n",
            "        [ 0.7688,  0.2009,  1.6420,  1.6438]], requires_grad=True)\n",
            "Bias Of Network :\n",
            " Parameter containing:\n",
            "tensor([-1.0334, -0.1690, -0.8977], requires_grad=True)\n",
            "Accuracy on the test set :  0.7\n"
          ]
        }
      ]
    },
    {
      "cell_type": "markdown",
      "source": [
        "### 4 : Using cross_entropy\n"
      ],
      "metadata": {
        "id": "d6ZZwIXLXcRu"
      }
    },
    {
      "cell_type": "code",
      "source": [
        "def model_4(X_train, y_train, batch_size, train):\n",
        "  for X, y in data_iter(batch_size, X_train, y_train):\n",
        "    y=y.reshape(batch_size).type(torch.LongTensor)\n",
        "    logits = net4(X)\n",
        "    loss = F.cross_entropy(logits, y)\n",
        "    if train==1:  \n",
        "      optimizer.zero_grad()\n",
        "      loss.backward()\n",
        "      optimizer.step()\n",
        "\n",
        "net4 = nn.Linear(4, 3, bias=True)\n",
        "optimizer = torch.optim.SGD(net4.parameters(), lr=0.1)\n",
        "for epoch in range(num_epochs):\n",
        "  model_4(X_train, y_train, batch_size, 1)\n",
        "print('Network Structure : torch.nn.Linear(4,3) :\\n',net4)\n",
        "print('Weight Of Network :\\n',net4.weight)\n",
        "print('Bias Of Network :\\n',net4.bias)\n",
        "model_4(X_test, y_test, batch_size, 0)\n",
        "print('Accuracy on the test set : ',comp_accuracy2(y_test, net4(X_test)))"
      ],
      "metadata": {
        "colab": {
          "base_uri": "https://localhost:8080/"
        },
        "id": "y_W2ZI62XhVB",
        "outputId": "158b69d3-9fe3-4af1-df0a-7ce3f2632841"
      },
      "execution_count": null,
      "outputs": [
        {
          "output_type": "stream",
          "name": "stdout",
          "text": [
            "Network Structure : torch.nn.Linear(4,3) :\n",
            " Linear(in_features=4, out_features=3, bias=True)\n",
            "Weight Of Network :\n",
            " Parameter containing:\n",
            "tensor([[-1.0440,  1.1888, -2.4759, -2.4354],\n",
            "        [ 0.7451, -0.6325, -0.3724, -1.0989],\n",
            "        [ 0.4048, -0.9229,  2.5203,  2.6941]], requires_grad=True)\n",
            "Bias Of Network :\n",
            " Parameter containing:\n",
            "tensor([-0.5752,  2.0469, -1.7772], requires_grad=True)\n",
            "Accuracy on the test set :  0.97\n"
          ]
        }
      ]
    },
    {
      "cell_type": "markdown",
      "source": [
        "###5 : Using Mean Squared Error Loss"
      ],
      "metadata": {
        "id": "FcGDiR710qhv"
      }
    },
    {
      "cell_type": "code",
      "source": [
        "def model_5(X_train, y_train_OHV, batch_size, train):\n",
        "  MSE = torch.nn.MSELoss(reduction ='mean')\n",
        "  for X, y in data_iter(batch_size, X_train, y_train_OHV):\n",
        "    y = y.reshape(batch_size,3)\n",
        "    logits = net5(X)\n",
        "    out = torch.sigmoid(logits)\n",
        "    soft = softmax(out, 0)\n",
        "    loss =MSE(soft, y)\n",
        "    if train == 1:\n",
        "      optimizer.zero_grad()\n",
        "      loss.backward()       \n",
        "      optimizer.step()      \n",
        "\n",
        "\n",
        "net5 = nn.Linear(4, 3, bias=True)\n",
        "optimizer = torch.optim.SGD(net5.parameters(), lr=0.1)\n",
        "for epoch in range(num_epochs):\n",
        "  model_5(X_train, y_train_OHV, batch_size, 1)\n",
        "print('Network Structure : torch.nn.Linear(4,3) :\\n',net5)\n",
        "print('Weight Of Network :\\n',net5.weight)\n",
        "print('Bias Of Network :\\n',net5.bias)\n",
        "model_5(X_test, y_test_OHV, batch_size, 0)\n",
        "print('Accuracy on the test set : ', comp_accuracy(y_test_OHV, softmax(torch.sigmoid(net5(X_test)), 0)))"
      ],
      "metadata": {
        "colab": {
          "base_uri": "https://localhost:8080/"
        },
        "id": "enMbjeYD0zzt",
        "outputId": "92beabf8-713c-4393-985c-ee479bec1c64"
      },
      "execution_count": null,
      "outputs": [
        {
          "output_type": "stream",
          "name": "stdout",
          "text": [
            "Network Structure : torch.nn.Linear(4,3) :\n",
            " Linear(in_features=4, out_features=3, bias=True)\n",
            "Weight Of Network :\n",
            " Parameter containing:\n",
            "tensor([[-0.3832,  0.8717, -0.9829, -1.1768],\n",
            "        [ 0.0275, -0.7677,  0.7468, -0.3164],\n",
            "        [ 0.4349,  0.2944,  1.0750,  1.2446]], requires_grad=True)\n",
            "Bias Of Network :\n",
            " Parameter containing:\n",
            "tensor([-0.3746, -0.0014, -0.3962], requires_grad=True)\n",
            "Accuracy on the test set :  0.8\n"
          ]
        }
      ]
    },
    {
      "cell_type": "markdown",
      "source": [
        "### 6 : Linear regression with Mean Squared Error Loss"
      ],
      "metadata": {
        "id": "-EuM-guJITYl"
      }
    },
    {
      "cell_type": "code",
      "source": [
        "def model_6(X_train, y_train, batch_size, train):\n",
        "  MSE = torch.nn.MSELoss(reduction ='mean')\n",
        "  for X, y in data_iter(batch_size, X_train, y_train):\n",
        "    y=y.reshape(batch_size,1).type(torch.FloatTensor)\n",
        "    logits = net6(X)\n",
        "    loss = MSE(logits, y)\n",
        "    if train == 1:\n",
        "      optimizer.zero_grad()\n",
        "      loss.backward()       \n",
        "      optimizer.step()      \n",
        "\n",
        "\n",
        "net6 = nn.Linear(4, 1, bias=True)\n",
        "optimizer = torch.optim.SGD(net6.parameters(), lr=0.1)\n",
        "net6.weight.data.normal_(0, 0.01)   # weight randomly sampled\n",
        "net6.bias.data.fill_(0)             # Bias initialized to zero\n",
        "for epoch in range(num_epochs):\n",
        "  model_6(X_train, y_train, batch_size, 1)\n",
        "print('Network Structure : torch.nn.Linear(4,3) :\\n',net6)\n",
        "print('Weight Of Network :\\n',net6.weight)\n",
        "print('Bias Of Network :\\n',net6.bias)\n",
        "model_6(X_test, y_test, batch_size, 0)\n",
        "\n",
        "print('Accuracy on the test set : ', comp_accuracy3(y_test, torch.round(net6(X_test))))"
      ],
      "metadata": {
        "colab": {
          "base_uri": "https://localhost:8080/"
        },
        "id": "DM_IB207zbky",
        "outputId": "293274a2-b618-4be6-89c9-d91a38cc1fb8"
      },
      "execution_count": null,
      "outputs": [
        {
          "output_type": "stream",
          "name": "stdout",
          "text": [
            "Network Structure : torch.nn.Linear(4,3) :\n",
            " Linear(in_features=4, out_features=1, bias=True)\n",
            "Weight Of Network :\n",
            " Parameter containing:\n",
            "tensor([[-0.1326, -0.0435,  0.4965,  0.4162]], requires_grad=True)\n",
            "Bias Of Network :\n",
            " Parameter containing:\n",
            "tensor([1.0024], requires_grad=True)\n",
            "Accuracy on the test set :  0.97\n"
          ]
        }
      ]
    }
  ],
  "metadata": {
    "colab": {
      "collapsed_sections": [],
      "name": "assignment_1B_2022.ipynb",
      "provenance": []
    },
    "kernelspec": {
      "display_name": "Python 3",
      "language": "python",
      "name": "python3"
    },
    "language_info": {
      "codemirror_mode": {
        "name": "ipython",
        "version": 3
      },
      "file_extension": ".py",
      "mimetype": "text/x-python",
      "name": "python",
      "nbconvert_exporter": "python",
      "pygments_lexer": "ipython3",
      "version": "3.7.6"
    }
  },
  "nbformat": 4,
  "nbformat_minor": 0
}